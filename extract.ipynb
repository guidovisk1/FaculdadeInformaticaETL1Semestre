{
 "cells": [
  {
   "cell_type": "code",
   "execution_count": 5,
   "metadata": {},
   "outputs": [],
   "source": [
    "import pandas as pd\n",
    "\n",
    "df = pd.read_csv(\"Dados_Todos_Paises.csv\")\n",
    "france_df = df.loc[df['location'] == 'France']\n",
    "france = france_df.rename(columns={\n",
    "    'location': 'País',\n",
    "    'date': 'Data',\n",
    "    'total_cases': 'total_casos',\n",
    "    'new_cases': 'novos_casos',\n",
    "    'total_deaths': 'total_mortes',\n",
    "    'new_deaths': 'novas_mortes',\n",
    "    'new_deaths_smoothed': 'Novas mortes suavizadas',\n",
    "    'population_density' : 'densidade_populacao',\n",
    "    'total_vaccinations': 'vacinados_Totalmente',\n",
    "    'population': 'população'\n",
    "})\n",
    "\n",
    "colunas_desejadas = ['País','Data', 'total_casos','novas_mortes','novos_casos','total_mortes','densidade_populacao', 'vacinados_Totalmente','população']\n",
    "df_filtrado = france[colunas_desejadas]\n",
    "df_filtrado.to_excel('France.xlsx', index=False)\n"
   ]
  },
  {
   "cell_type": "code",
   "execution_count": null,
   "metadata": {},
   "outputs": [],
   "source": []
  }
 ],
 "metadata": {
  "language_info": {
   "name": "python"
  }
 },
 "nbformat": 4,
 "nbformat_minor": 2
}
